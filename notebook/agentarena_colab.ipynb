{
 "cells": [
  {
   "cell_type": "code",
   "execution_count": null,
   "id": "a441964a-268c-4427-af80-848d995698da",
   "metadata": {},
   "outputs": [],
   "source": [
    "# Check if we're running in Colab\n",
    "import sys\n",
    "IN_COLAB = 'google.colab' in sys.modules\n",
    "print(f\"Running in Google Colab: {IN_COLAB}\")\n",
    "\n",
    "if not IN_COLAB:\n",
    "    print(\"This notebook is designed to run in Google Colab\")"
   ]
  },
  {
   "cell_type": "code",
   "execution_count": null,
   "id": "44f0d6ef-f46f-4c2d-86cf-ea5273c6f843",
   "metadata": {},
   "outputs": [],
   "source": [
    "!git clone https://github.com/ThomasAckermann/AgentArena.git\n",
    "%cd AgentArena\n",
    "!pip install -e .\n",
    "!mkdir -p models results\n",
    "%load_ext tensorboard"
   ]
  },
  {
   "cell_type": "code",
   "execution_count": null,
   "id": "ee0b6c3b-e024-48ee-b7a1-52d2b973ad26",
   "metadata": {},
   "outputs": [],
   "source": [
    "MODEL_NAME = \"colab_model\"\n",
    "EPISODES = 5000\n",
    "REWARD_TYPE = \"enhanced\"  # Options: basic, aggressive, defensive, advanced, enhanced\n",
    "LEARNING_RATE = 0.00\n",
    "GAMMA = 0.99\n",
    "EPSILON = 0.8\n",
    "EPSILON_DECAY = 0.9995\n",
    "EPSILON_MIN = 0.25\n",
    "SAVE_FREQ = 300"
   ]
  },
  {
   "cell_type": "code",
   "execution_count": null,
   "id": "a9a58bff-c078-47ac-b51d-6e198d580a80",
   "metadata": {},
   "outputs": [],
   "source": [
    "# Run training (headless mode)\n",
    "!python -m agentarena.training.train \\\n",
    "  --episodes {EPISODES} \\\n",
    "  --model-name {MODEL_NAME} \\\n",
    "  --save-freq {SAVE_FREQ} \\\n",
    "  --reward-type {REWARD_TYPE} \\\n",
    "  --learning-rate {LEARNING_RATE} \\\n",
    "  --gamma {GAMMA} \\\n",
    "  --epsilon {EPSILON} \\\n",
    "  --epsilon-decay {EPSILON_DECAY} \\\n",
    "  --epsilon-min {EPSILON_MIN}"
   ]
  },
  {
   "cell_type": "code",
   "execution_count": null,
   "id": "8d160909-98e3-4e01-b029-df68b876d37c",
   "metadata": {},
   "outputs": [],
   "source": [
    "%tensorboard --logdir runs"
   ]
  },
  {
   "cell_type": "code",
   "execution_count": null,
   "id": "4cf11b60-2274-4d8b-88c5-62b299c416a5",
   "metadata": {},
   "outputs": [],
   "source": [
    "# Find the most recent results file\\n\",\n",
    "results_files = glob.glob(f\\\"results/{MODEL_NAME}_*.pkl\\\")\\n\",\n",
    "if results_files:\n",
    "    latest_results = max(results_files, key=os.path.getctime)\n",
    "    print(f\\\"Found results file: {latest_results}\\\")\n",
    "    # Visualize the results\n",
    "else:\n",
    "    print(\"No results files found\")\n"
   ]
  },
  {
   "cell_type": "code",
   "execution_count": null,
   "id": "ccd941ca-0f4a-4ac4-8ad2-3e5ca2dafa7f",
   "metadata": {},
   "outputs": [],
   "source": [
    "!python -m agentarena.training.visualize_training --files {latest_results}"
   ]
  },
  {
   "cell_type": "code",
   "execution_count": null,
   "id": "5a47ee50-407a-41e4-a490-889882e38689",
   "metadata": {},
   "outputs": [],
   "source": [
    "# Zip models, results, and TensorBoard logs\n",
    "!zip -r AgentArena_trained.zip models/ results/ runs/"
   ]
  },
  {
   "cell_type": "code",
   "execution_count": null,
   "id": "e90e346d-5334-473e-b9e5-60a8481e37c7",
   "metadata": {},
   "outputs": [],
   "source": [
    "# Download the files\n",
    "from google.colab import files\n",
    "files.download('AgentArena_trained.zip')"
   ]
  }
 ],
 "metadata": {
  "kernelspec": {
   "display_name": "Python 3 (ipykernel)",
   "language": "python",
   "name": "python3"
  },
  "language_info": {
   "codemirror_mode": {
    "name": "ipython",
    "version": 3
   },
   "file_extension": ".py",
   "mimetype": "text/x-python",
   "name": "python",
   "nbconvert_exporter": "python",
   "pygments_lexer": "ipython3",
   "version": "3.12.10"
  }
 },
 "nbformat": 4,
 "nbformat_minor": 5
}
